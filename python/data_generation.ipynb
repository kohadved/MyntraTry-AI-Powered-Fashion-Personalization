{
 "cells": [
  {
   "cell_type": "code",
   "execution_count": 2,
   "metadata": {},
   "outputs": [],
   "source": [
    "import pandas as pd"
   ]
  },
  {
   "cell_type": "code",
   "execution_count": 2,
   "metadata": {},
   "outputs": [],
   "source": [
    "df=pd.read_csv(r'C:\\Users\\Kashish Gandhi\\Desktop\\CoDivas_CollegeId\\myntra202305041052.csv')"
   ]
  },
  {
   "cell_type": "code",
   "execution_count": 3,
   "metadata": {},
   "outputs": [
    {
     "data": {
      "text/html": [
       "<div>\n",
       "<style scoped>\n",
       "    .dataframe tbody tr th:only-of-type {\n",
       "        vertical-align: middle;\n",
       "    }\n",
       "\n",
       "    .dataframe tbody tr th {\n",
       "        vertical-align: top;\n",
       "    }\n",
       "\n",
       "    .dataframe thead th {\n",
       "        text-align: right;\n",
       "    }\n",
       "</style>\n",
       "<table border=\"1\" class=\"dataframe\">\n",
       "  <thead>\n",
       "    <tr style=\"text-align: right;\">\n",
       "      <th></th>\n",
       "      <th>id</th>\n",
       "      <th>name</th>\n",
       "      <th>img</th>\n",
       "      <th>asin</th>\n",
       "      <th>price</th>\n",
       "      <th>mrp</th>\n",
       "      <th>rating</th>\n",
       "      <th>ratingTotal</th>\n",
       "      <th>discount</th>\n",
       "      <th>seller</th>\n",
       "      <th>purl</th>\n",
       "    </tr>\n",
       "  </thead>\n",
       "  <tbody>\n",
       "    <tr>\n",
       "      <th>0</th>\n",
       "      <td>1</td>\n",
       "      <td>Men Solid Oversized Cotton</td>\n",
       "      <td>https://assets.myntassets.com/f_webp,dpr_1.0,q...</td>\n",
       "      <td>-</td>\n",
       "      <td>532.0</td>\n",
       "      <td>1299.0</td>\n",
       "      <td>4.1</td>\n",
       "      <td>5300</td>\n",
       "      <td>59</td>\n",
       "      <td>Difference of Opinion</td>\n",
       "      <td>https://www.myntra.com/tshirts/difference-of-o...</td>\n",
       "    </tr>\n",
       "    <tr>\n",
       "      <th>1</th>\n",
       "      <td>2</td>\n",
       "      <td>Men Cotton Pure Cotton T-shirt</td>\n",
       "      <td>https://assets.myntassets.com/f_webp,dpr_1.0,q...</td>\n",
       "      <td>-</td>\n",
       "      <td>274.0</td>\n",
       "      <td>499.0</td>\n",
       "      <td>4.2</td>\n",
       "      <td>25400</td>\n",
       "      <td>45</td>\n",
       "      <td>Roadster</td>\n",
       "      <td>https://www.myntra.com/tshirts/roadster/roadst...</td>\n",
       "    </tr>\n",
       "    <tr>\n",
       "      <th>2</th>\n",
       "      <td>3</td>\n",
       "      <td>Women Pure Cotton T-shirt</td>\n",
       "      <td>https://assets.myntassets.com/f_webp,dpr_1.0,q...</td>\n",
       "      <td>-</td>\n",
       "      <td>551.0</td>\n",
       "      <td>1199.0</td>\n",
       "      <td>4.5</td>\n",
       "      <td>3400</td>\n",
       "      <td>54</td>\n",
       "      <td>DILLINGER</td>\n",
       "      <td>https://www.myntra.com/tshirts/dillinger/dilli...</td>\n",
       "    </tr>\n",
       "    <tr>\n",
       "      <th>3</th>\n",
       "      <td>4</td>\n",
       "      <td>Typography Print T-shirt</td>\n",
       "      <td>https://assets.myntassets.com/f_webp,dpr_1.0,q...</td>\n",
       "      <td>-</td>\n",
       "      <td>296.0</td>\n",
       "      <td>1099.0</td>\n",
       "      <td>4.0</td>\n",
       "      <td>18400</td>\n",
       "      <td>73</td>\n",
       "      <td>Huetrap</td>\n",
       "      <td>https://www.myntra.com/tshirts/huetrap/huetrap...</td>\n",
       "    </tr>\n",
       "    <tr>\n",
       "      <th>4</th>\n",
       "      <td>5</td>\n",
       "      <td>Printed Round Neck Pure Cotton T-shirt</td>\n",
       "      <td>https://assets.myntassets.com/f_webp,dpr_1.0,q...</td>\n",
       "      <td>-</td>\n",
       "      <td>494.0</td>\n",
       "      <td>899.0</td>\n",
       "      <td>4.2</td>\n",
       "      <td>3800</td>\n",
       "      <td>45</td>\n",
       "      <td>Roadster</td>\n",
       "      <td>https://www.myntra.com/tshirts/roadster/roadst...</td>\n",
       "    </tr>\n",
       "  </tbody>\n",
       "</table>\n",
       "</div>"
      ],
      "text/plain": [
       "   id                                    name  \\\n",
       "0   1              Men Solid Oversized Cotton   \n",
       "1   2          Men Cotton Pure Cotton T-shirt   \n",
       "2   3               Women Pure Cotton T-shirt   \n",
       "3   4                Typography Print T-shirt   \n",
       "4   5  Printed Round Neck Pure Cotton T-shirt   \n",
       "\n",
       "                                                 img asin  price     mrp  \\\n",
       "0  https://assets.myntassets.com/f_webp,dpr_1.0,q...    -  532.0  1299.0   \n",
       "1  https://assets.myntassets.com/f_webp,dpr_1.0,q...    -  274.0   499.0   \n",
       "2  https://assets.myntassets.com/f_webp,dpr_1.0,q...    -  551.0  1199.0   \n",
       "3  https://assets.myntassets.com/f_webp,dpr_1.0,q...    -  296.0  1099.0   \n",
       "4  https://assets.myntassets.com/f_webp,dpr_1.0,q...    -  494.0   899.0   \n",
       "\n",
       "   rating  ratingTotal  discount                 seller  \\\n",
       "0     4.1         5300        59  Difference of Opinion   \n",
       "1     4.2        25400        45               Roadster   \n",
       "2     4.5         3400        54              DILLINGER   \n",
       "3     4.0        18400        73                Huetrap   \n",
       "4     4.2         3800        45               Roadster   \n",
       "\n",
       "                                                purl  \n",
       "0  https://www.myntra.com/tshirts/difference-of-o...  \n",
       "1  https://www.myntra.com/tshirts/roadster/roadst...  \n",
       "2  https://www.myntra.com/tshirts/dillinger/dilli...  \n",
       "3  https://www.myntra.com/tshirts/huetrap/huetrap...  \n",
       "4  https://www.myntra.com/tshirts/roadster/roadst...  "
      ]
     },
     "execution_count": 3,
     "metadata": {},
     "output_type": "execute_result"
    }
   ],
   "source": [
    "df.head()"
   ]
  },
  {
   "cell_type": "code",
   "execution_count": 29,
   "metadata": {},
   "outputs": [
    {
     "data": {
      "text/plain": [
       "'Men Solid Oversized Cotton'"
      ]
     },
     "execution_count": 29,
     "metadata": {},
     "output_type": "execute_result"
    }
   ],
   "source": [
    "df['name'][0]"
   ]
  },
  {
   "cell_type": "markdown",
   "metadata": {},
   "source": [
    "Add additional column for target audience (Male, Female, Unknown)"
   ]
  },
  {
   "cell_type": "code",
   "execution_count": 92,
   "metadata": {},
   "outputs": [],
   "source": [
    "df['target_audience'] = df['name'].apply(\n",
    "    lambda x: 'Male' if 'Men' in x else ('Female' if 'Women' in x else 'Unknown')\n",
    ")"
   ]
  },
  {
   "cell_type": "code",
   "execution_count": 48,
   "metadata": {},
   "outputs": [],
   "source": [
    "for index, row in df.iterrows():\n",
    "    if row['target_audience'] == 'Unknown':\n",
    "        if 'Men' in row['name'] or 'Boys' in row['name']:\n",
    "            df.at[index, 'target_audience'] = 'Male'\n",
    "        elif 'Women' in row['name'] or 'Girls' in row['name']:\n",
    "            df.at[index, 'target_audience'] = 'Female'\n",
    "        else:\n",
    "            df.at[index, 'target_audience'] = 'Unknown'"
   ]
  },
  {
   "cell_type": "markdown",
   "metadata": {},
   "source": [
    "Slicing the dataset to 100,000 rows"
   ]
  },
  {
   "cell_type": "code",
   "execution_count": 106,
   "metadata": {},
   "outputs": [],
   "source": [
    "df1=df[:100000]"
   ]
  },
  {
   "cell_type": "code",
   "execution_count": 107,
   "metadata": {},
   "outputs": [
    {
     "data": {
      "text/html": [
       "<div>\n",
       "<style scoped>\n",
       "    .dataframe tbody tr th:only-of-type {\n",
       "        vertical-align: middle;\n",
       "    }\n",
       "\n",
       "    .dataframe tbody tr th {\n",
       "        vertical-align: top;\n",
       "    }\n",
       "\n",
       "    .dataframe thead th {\n",
       "        text-align: right;\n",
       "    }\n",
       "</style>\n",
       "<table border=\"1\" class=\"dataframe\">\n",
       "  <thead>\n",
       "    <tr style=\"text-align: right;\">\n",
       "      <th></th>\n",
       "      <th>id</th>\n",
       "      <th>name</th>\n",
       "      <th>img</th>\n",
       "      <th>asin</th>\n",
       "      <th>price</th>\n",
       "      <th>mrp</th>\n",
       "      <th>rating</th>\n",
       "      <th>ratingTotal</th>\n",
       "      <th>discount</th>\n",
       "      <th>seller</th>\n",
       "      <th>purl</th>\n",
       "      <th>target_audience</th>\n",
       "    </tr>\n",
       "  </thead>\n",
       "  <tbody>\n",
       "    <tr>\n",
       "      <th>0</th>\n",
       "      <td>1</td>\n",
       "      <td>Men Solid Oversized Cotton</td>\n",
       "      <td>https://assets.myntassets.com/f_webp,dpr_1.0,q...</td>\n",
       "      <td>-</td>\n",
       "      <td>532.0</td>\n",
       "      <td>1299.0</td>\n",
       "      <td>4.1</td>\n",
       "      <td>5300</td>\n",
       "      <td>59</td>\n",
       "      <td>Difference of Opinion</td>\n",
       "      <td>https://www.myntra.com/tshirts/difference-of-o...</td>\n",
       "      <td>Male</td>\n",
       "    </tr>\n",
       "    <tr>\n",
       "      <th>1</th>\n",
       "      <td>2</td>\n",
       "      <td>Men Cotton Pure Cotton T-shirt</td>\n",
       "      <td>https://assets.myntassets.com/f_webp,dpr_1.0,q...</td>\n",
       "      <td>-</td>\n",
       "      <td>274.0</td>\n",
       "      <td>499.0</td>\n",
       "      <td>4.2</td>\n",
       "      <td>25400</td>\n",
       "      <td>45</td>\n",
       "      <td>Roadster</td>\n",
       "      <td>https://www.myntra.com/tshirts/roadster/roadst...</td>\n",
       "      <td>Male</td>\n",
       "    </tr>\n",
       "    <tr>\n",
       "      <th>2</th>\n",
       "      <td>3</td>\n",
       "      <td>Women Pure Cotton T-shirt</td>\n",
       "      <td>https://assets.myntassets.com/f_webp,dpr_1.0,q...</td>\n",
       "      <td>-</td>\n",
       "      <td>551.0</td>\n",
       "      <td>1199.0</td>\n",
       "      <td>4.5</td>\n",
       "      <td>3400</td>\n",
       "      <td>54</td>\n",
       "      <td>DILLINGER</td>\n",
       "      <td>https://www.myntra.com/tshirts/dillinger/dilli...</td>\n",
       "      <td>Female</td>\n",
       "    </tr>\n",
       "    <tr>\n",
       "      <th>3</th>\n",
       "      <td>4</td>\n",
       "      <td>Typography Print T-shirt</td>\n",
       "      <td>https://assets.myntassets.com/f_webp,dpr_1.0,q...</td>\n",
       "      <td>-</td>\n",
       "      <td>296.0</td>\n",
       "      <td>1099.0</td>\n",
       "      <td>4.0</td>\n",
       "      <td>18400</td>\n",
       "      <td>73</td>\n",
       "      <td>Huetrap</td>\n",
       "      <td>https://www.myntra.com/tshirts/huetrap/huetrap...</td>\n",
       "      <td>Unknown</td>\n",
       "    </tr>\n",
       "    <tr>\n",
       "      <th>4</th>\n",
       "      <td>5</td>\n",
       "      <td>Printed Round Neck Pure Cotton T-shirt</td>\n",
       "      <td>https://assets.myntassets.com/f_webp,dpr_1.0,q...</td>\n",
       "      <td>-</td>\n",
       "      <td>494.0</td>\n",
       "      <td>899.0</td>\n",
       "      <td>4.2</td>\n",
       "      <td>3800</td>\n",
       "      <td>45</td>\n",
       "      <td>Roadster</td>\n",
       "      <td>https://www.myntra.com/tshirts/roadster/roadst...</td>\n",
       "      <td>Unknown</td>\n",
       "    </tr>\n",
       "    <tr>\n",
       "      <th>...</th>\n",
       "      <td>...</td>\n",
       "      <td>...</td>\n",
       "      <td>...</td>\n",
       "      <td>...</td>\n",
       "      <td>...</td>\n",
       "      <td>...</td>\n",
       "      <td>...</td>\n",
       "      <td>...</td>\n",
       "      <td>...</td>\n",
       "      <td>...</td>\n",
       "      <td>...</td>\n",
       "      <td>...</td>\n",
       "    </tr>\n",
       "    <tr>\n",
       "      <th>99995</th>\n",
       "      <td>99996</td>\n",
       "      <td>Set Of 2 Gold-Plated Bracelets</td>\n",
       "      <td>-</td>\n",
       "      <td>-</td>\n",
       "      <td>1124.0</td>\n",
       "      <td>4164.0</td>\n",
       "      <td>0.0</td>\n",
       "      <td>0</td>\n",
       "      <td>73</td>\n",
       "      <td>SOHI</td>\n",
       "      <td>https://www.myntra.com/bracelet/sohi/sohi-set-...</td>\n",
       "      <td>Unknown</td>\n",
       "    </tr>\n",
       "    <tr>\n",
       "      <th>99996</th>\n",
       "      <td>99997</td>\n",
       "      <td>Half Hoop Earrings</td>\n",
       "      <td>-</td>\n",
       "      <td>-</td>\n",
       "      <td>994.0</td>\n",
       "      <td>2925.0</td>\n",
       "      <td>0.0</td>\n",
       "      <td>0</td>\n",
       "      <td>66</td>\n",
       "      <td>SOHI</td>\n",
       "      <td>https://www.myntra.com/earrings/sohi/sohi-cont...</td>\n",
       "      <td>Unknown</td>\n",
       "    </tr>\n",
       "    <tr>\n",
       "      <th>99997</th>\n",
       "      <td>99998</td>\n",
       "      <td>Gold Plated Stud Earring</td>\n",
       "      <td>-</td>\n",
       "      <td>-</td>\n",
       "      <td>350.0</td>\n",
       "      <td>1030.0</td>\n",
       "      <td>0.0</td>\n",
       "      <td>0</td>\n",
       "      <td>66</td>\n",
       "      <td>Sukkhi</td>\n",
       "      <td>https://www.myntra.com/earrings/sukkhi/sukkhi-...</td>\n",
       "      <td>Unknown</td>\n",
       "    </tr>\n",
       "    <tr>\n",
       "      <th>99998</th>\n",
       "      <td>99999</td>\n",
       "      <td>Textured Travel Pouch</td>\n",
       "      <td>-</td>\n",
       "      <td>-</td>\n",
       "      <td>495.0</td>\n",
       "      <td>1599.0</td>\n",
       "      <td>0.0</td>\n",
       "      <td>0</td>\n",
       "      <td>69</td>\n",
       "      <td>Crazy Corner</td>\n",
       "      <td>https://www.myntra.com/travel-accessory/crazy-...</td>\n",
       "      <td>Unknown</td>\n",
       "    </tr>\n",
       "    <tr>\n",
       "      <th>99999</th>\n",
       "      <td>100000</td>\n",
       "      <td>Rectangle Sunglasses</td>\n",
       "      <td>-</td>\n",
       "      <td>-</td>\n",
       "      <td>1975.0</td>\n",
       "      <td>2500.0</td>\n",
       "      <td>0.0</td>\n",
       "      <td>0</td>\n",
       "      <td>21</td>\n",
       "      <td>MAGNEQ</td>\n",
       "      <td>https://www.myntra.com/sunglasses/magneq/magne...</td>\n",
       "      <td>Unknown</td>\n",
       "    </tr>\n",
       "  </tbody>\n",
       "</table>\n",
       "<p>100000 rows × 12 columns</p>\n",
       "</div>"
      ],
      "text/plain": [
       "           id                                    name  \\\n",
       "0           1              Men Solid Oversized Cotton   \n",
       "1           2          Men Cotton Pure Cotton T-shirt   \n",
       "2           3               Women Pure Cotton T-shirt   \n",
       "3           4                Typography Print T-shirt   \n",
       "4           5  Printed Round Neck Pure Cotton T-shirt   \n",
       "...       ...                                     ...   \n",
       "99995   99996          Set Of 2 Gold-Plated Bracelets   \n",
       "99996   99997                      Half Hoop Earrings   \n",
       "99997   99998                Gold Plated Stud Earring   \n",
       "99998   99999                   Textured Travel Pouch   \n",
       "99999  100000                    Rectangle Sunglasses   \n",
       "\n",
       "                                                     img asin   price     mrp  \\\n",
       "0      https://assets.myntassets.com/f_webp,dpr_1.0,q...    -   532.0  1299.0   \n",
       "1      https://assets.myntassets.com/f_webp,dpr_1.0,q...    -   274.0   499.0   \n",
       "2      https://assets.myntassets.com/f_webp,dpr_1.0,q...    -   551.0  1199.0   \n",
       "3      https://assets.myntassets.com/f_webp,dpr_1.0,q...    -   296.0  1099.0   \n",
       "4      https://assets.myntassets.com/f_webp,dpr_1.0,q...    -   494.0   899.0   \n",
       "...                                                  ...  ...     ...     ...   \n",
       "99995                                                  -    -  1124.0  4164.0   \n",
       "99996                                                  -    -   994.0  2925.0   \n",
       "99997                                                  -    -   350.0  1030.0   \n",
       "99998                                                  -    -   495.0  1599.0   \n",
       "99999                                                  -    -  1975.0  2500.0   \n",
       "\n",
       "       rating  ratingTotal  discount                 seller  \\\n",
       "0         4.1         5300        59  Difference of Opinion   \n",
       "1         4.2        25400        45               Roadster   \n",
       "2         4.5         3400        54              DILLINGER   \n",
       "3         4.0        18400        73                Huetrap   \n",
       "4         4.2         3800        45               Roadster   \n",
       "...       ...          ...       ...                    ...   \n",
       "99995     0.0            0        73                   SOHI   \n",
       "99996     0.0            0        66                   SOHI   \n",
       "99997     0.0            0        66                 Sukkhi   \n",
       "99998     0.0            0        69           Crazy Corner   \n",
       "99999     0.0            0        21                 MAGNEQ   \n",
       "\n",
       "                                                    purl target_audience  \n",
       "0      https://www.myntra.com/tshirts/difference-of-o...            Male  \n",
       "1      https://www.myntra.com/tshirts/roadster/roadst...            Male  \n",
       "2      https://www.myntra.com/tshirts/dillinger/dilli...          Female  \n",
       "3      https://www.myntra.com/tshirts/huetrap/huetrap...         Unknown  \n",
       "4      https://www.myntra.com/tshirts/roadster/roadst...         Unknown  \n",
       "...                                                  ...             ...  \n",
       "99995  https://www.myntra.com/bracelet/sohi/sohi-set-...         Unknown  \n",
       "99996  https://www.myntra.com/earrings/sohi/sohi-cont...         Unknown  \n",
       "99997  https://www.myntra.com/earrings/sukkhi/sukkhi-...         Unknown  \n",
       "99998  https://www.myntra.com/travel-accessory/crazy-...         Unknown  \n",
       "99999  https://www.myntra.com/sunglasses/magneq/magne...         Unknown  \n",
       "\n",
       "[100000 rows x 12 columns]"
      ]
     },
     "execution_count": 107,
     "metadata": {},
     "output_type": "execute_result"
    }
   ],
   "source": [
    "df1"
   ]
  },
  {
   "cell_type": "markdown",
   "metadata": {},
   "source": [
    "Reducing data to clothing and few accessories"
   ]
  },
  {
   "cell_type": "code",
   "execution_count": 58,
   "metadata": {},
   "outputs": [],
   "source": [
    "clothing_keywords = [\n",
    "    'shirt', 't-shirt', 'jeans', 'trousers', 'pants', 'jacket', 'coat', \n",
    "    'dress', 'skirt', 'sweater', 'hoodie', 'shorts', 'suit', 'blouse', \n",
    "    'shirt', 'socks', 'scarf', 'gloves', 'hat', 'cap', 'blazer', 'vest', \n",
    "    'sweatshirt', 'polo', 'leggings', 'cardigan', 'culottes', 'romper',\n",
    "    'jumpsuit', 'sari', 'kurta', 'sweater', 'tank top','corset','cargo','summer','bikini','saree','kurti','kurta'\n",
    "]"
   ]
  },
  {
   "cell_type": "code",
   "execution_count": 241,
   "metadata": {},
   "outputs": [],
   "source": [
    "pattern = '|'.join(clothing_keywords)"
   ]
  },
  {
   "cell_type": "code",
   "execution_count": 242,
   "metadata": {},
   "outputs": [],
   "source": [
    "df_clothes = df1[df1['name'].str.contains(pattern, case=False, na=False, regex=True)]"
   ]
  },
  {
   "cell_type": "code",
   "execution_count": 244,
   "metadata": {},
   "outputs": [],
   "source": [
    "df1=df_clothes"
   ]
  },
  {
   "cell_type": "markdown",
   "metadata": {},
   "source": [
    "Finding number of unknown"
   ]
  },
  {
   "cell_type": "code",
   "execution_count": 108,
   "metadata": {},
   "outputs": [
    {
     "name": "stdout",
     "output_type": "stream",
     "text": [
      "Count of Unknown: 73606\n"
     ]
    }
   ],
   "source": [
    "count_unknown = (df1['target_audience'] == 'Unknown').sum()\n",
    "\n",
    "print(f\"Count of Unknown: {count_unknown}\")"
   ]
  },
  {
   "cell_type": "code",
   "execution_count": 109,
   "metadata": {},
   "outputs": [
    {
     "name": "stdout",
     "output_type": "stream",
     "text": [
      "Count of unique names: 41504\n"
     ]
    }
   ],
   "source": [
    "unique_count = df1['name'].nunique()\n",
    "\n",
    "print(f\"Count of unique names: {unique_count}\")"
   ]
  },
  {
   "cell_type": "code",
   "execution_count": 110,
   "metadata": {},
   "outputs": [
    {
     "name": "stdout",
     "output_type": "stream",
     "text": [
      "Unique names (excluding 'Unknown'): ['Typography Print T-shirt' 'Printed Round Neck Pure Cotton T-shirt'\n",
      " 'Boys Pack of 5 T-shirt' ... 'Printed Midi Tiered Skirt'\n",
      " 'Gold Plated Stud Earring' 'Textured Travel Pouch']\n",
      "Count of unique names (excluding 'Unknown'): 33461\n"
     ]
    }
   ],
   "source": [
    "filtered_df = df1[df1['target_audience'] == 'Unknown']\n",
    "unique_names = filtered_df['name'].unique()\n",
    "unique_count = len(unique_names)\n",
    "\n",
    "print(f\"Unique names (excluding 'Unknown'): {unique_names}\")\n",
    "print(f\"Count of unique names (excluding 'Unknown'): {unique_count}\")"
   ]
  },
  {
   "cell_type": "markdown",
   "metadata": {},
   "source": [
    "Import LLM to assign target audience to 'Unknown' data (Male, Female, Unisex)"
   ]
  },
  {
   "cell_type": "code",
   "execution_count": 12,
   "metadata": {},
   "outputs": [],
   "source": [
    "import google.generativeai as genai\n",
    "genai.configure(api_key=\"YOUR_API_KEY\")\n",
    "model = genai.GenerativeModel('gemini-pro')\n",
    "chat = model.start_chat(history=[])"
   ]
  },
  {
   "cell_type": "code",
   "execution_count": 46,
   "metadata": {},
   "outputs": [],
   "source": [
    "def determine_target_audience(product_name):\n",
    "    chat = model.start_chat(history=[])\n",
    "    response_new = chat.send_message(f\"Given the product name '{product_name}', determine if it is for male, female, or unisex.\")\n",
    "    target_audience = \"\"\n",
    "    for part in response_new.parts:\n",
    "        target_audience = part.text.strip()\n",
    "    return target_audience"
   ]
  },
  {
   "cell_type": "code",
   "execution_count": 47,
   "metadata": {},
   "outputs": [],
   "source": [
    "import time\n",
    "def process_with_delay(df, delay=4):\n",
    "    unknown_names = df1[df1['target_audience'] == 'Unknown']['name'].unique()\n",
    "    target_audiences = {}\n",
    "    for product_name in unknown_names:\n",
    "        target_audience = determine_target_audience(product_name)\n",
    "        df.loc[(df['name'] == product_name) & (df['target_audience'] == 'Unknown'), 'target_audience'] = target_audience\n",
    "        print(f\"Processed: {product_name} -> {target_audience}\")\n",
    "        time.sleep(delay) \n"
   ]
  },
  {
   "cell_type": "code",
   "execution_count": 56,
   "metadata": {},
   "outputs": [
    {
     "name": "stdout",
     "output_type": "stream",
     "text": [
      "Processed: Pack of 3 Printed T-shirts -> Unisex\n",
      "Processed: Solid Zip Through Hoodie -> Unisex\n",
      "Processed: Typography Cotton Casual Shirt -> Unisex\n",
      "Processed: Jumpman Logo DF T-shirt -> Male\n",
      "Processed: DTP Coating Water Bottle -> Unisex\n",
      "Processed: AEROREADY Running T-shirt -> Unisex\n",
      "Processed: Premium Cotton Solid T-shirt -> Unisex\n",
      "Processed: Striped Knitted Polo T-shirt -> Unisex\n",
      "Processed: Printed Oversized Fit T-shirt -> Unisex\n",
      "Processed: Henley Neck Athleisure Pure Cotton T-shirt -> Unisex\n",
      "Processed: Striped Collar Polo Shirt -> Male\n",
      "Processed: Slim Fit Sports T-shirt -> Unisex\n",
      "Processed: Printed Round Neck Mauve T-shirt -> Female\n"
     ]
    }
   ],
   "source": [
    "process_with_delay(df1)"
   ]
  },
  {
   "cell_type": "markdown",
   "metadata": {},
   "source": [
    "Identifying Main and Sub Category"
   ]
  },
  {
   "cell_type": "code",
   "execution_count": 4,
   "metadata": {},
   "outputs": [],
   "source": [
    "main_categories = {\n",
    "    'Top Wear': ['shirt', 't-shirt', 'jacket', 'coat', 'sweater', 'hoodie', \n",
    "                 'blouse', 'sweatshirt', 'polo', 'cardigan', 'vest', 'tank top', \n",
    "                 'corset', 'summer', 'bikini'],\n",
    "    'Bottom Wear': ['jeans', 'trousers', 'pants', 'shorts', 'skirt', 'leggings', \n",
    "                    'culottes', 'cargo'],\n",
    "    'Dress (Full Length)': ['dress', 'sari', 'kurta', 'saree', 'kurti', \n",
    "                            'jumpsuit', 'romper', 'long dress', 'evening dress', 'bridal dress']\n",
    "}\n",
    "subcategories = {\n",
    "    'Top Wear': {\n",
    "        'T-Shirt': ['t-shirt'],\n",
    "        'Jacket': ['jacket'],\n",
    "        'Coat': ['coat'],\n",
    "        'Sweater': ['sweater'],\n",
    "        'Hoodie': ['hoodie'],\n",
    "        'Blouse': ['blouse'],\n",
    "        'Sweatshirt': ['sweatshirt'],\n",
    "        'Polo': ['polo'],\n",
    "        'Cardigan': ['cardigan'],\n",
    "        'Vest': ['vest'],\n",
    "        'Tank Top': ['tank top'],\n",
    "        'Corset': ['corset'],\n",
    "        'Summer': ['summer'],\n",
    "        'Bikini': ['bikini'],\n",
    "        'Shirt': ['shirt'],\n",
    "    },\n",
    "    'Bottom Wear': {\n",
    "        'Jeans': ['jeans'],\n",
    "        'Trousers': ['trousers'],\n",
    "        'Pants': ['pants'],\n",
    "        'Shorts': ['shorts'],\n",
    "        'Skirt': ['skirt'],\n",
    "        'Leggings': ['leggings'],\n",
    "        'Culottes': ['culottes'],\n",
    "        'Cargo': ['cargo']\n",
    "    },\n",
    "    'Dress (Full Length)': {\n",
    "        'Dress': ['dress'],\n",
    "        'Sari': ['sari'],\n",
    "        'Kurta': ['kurta'],\n",
    "        'Saree': ['saree'],\n",
    "        'Kurti': ['kurti'],\n",
    "        'Jumpsuit': ['jumpsuit'],\n",
    "        'Romper': ['romper'],\n",
    "        'Long Dress': ['long dress'],\n",
    "        'Evening Dress': ['evening dress'],\n",
    "        'Bridal Dress': ['bridal dress']\n",
    "    }\n",
    "}"
   ]
  },
  {
   "cell_type": "code",
   "execution_count": 5,
   "metadata": {},
   "outputs": [],
   "source": [
    "def determine_main_category(product_name):\n",
    "    product_name = product_name.lower()\n",
    "    for category, keywords in main_categories.items():\n",
    "        if any(keyword in product_name for keyword in keywords):\n",
    "            return category\n",
    "    return 'Accessories'"
   ]
  },
  {
   "cell_type": "code",
   "execution_count": 6,
   "metadata": {},
   "outputs": [],
   "source": [
    "def determine_subcategory(product_name, main_category):\n",
    "    product_name = product_name.lower()\n",
    "    if main_category == 'Accessories':\n",
    "        return 'General'\n",
    "    for subcategory, subkeywords in subcategories[main_category].items():\n",
    "        if any(subkeyword in product_name for subkeyword in subkeywords):\n",
    "            return subcategory\n",
    "    return 'General'"
   ]
  },
  {
   "cell_type": "code",
   "execution_count": 7,
   "metadata": {},
   "outputs": [],
   "source": [
    "df1['main_category'] = df1['name'].apply(determine_main_category)\n",
    "df1['subcategory'] = df1.apply(lambda row: determine_subcategory(row['name'], row['main_category']), axis=1)"
   ]
  },
  {
   "cell_type": "markdown",
   "metadata": {},
   "source": [
    "Strategically adding quantity and dates to make the data be as real as possible"
   ]
  },
  {
   "cell_type": "code",
   "execution_count": 8,
   "metadata": {},
   "outputs": [],
   "source": [
    "date_range = pd.date_range(start='2020-01-01', end='2024-06-01', freq='MS')\n",
    "seasons = {\n",
    "    'summer': [4,5,6],\n",
    "    'monsoon': [7,8,9, 10],  \n",
    "    'winter': [11, 12, 1],\n",
    "    'spring': [2, 3]\n",
    "}"
   ]
  },
  {
   "cell_type": "code",
   "execution_count": 11,
   "metadata": {},
   "outputs": [],
   "source": [
    "summer_wear = ['bikini', 't-shirt', 'tank top', 'corset', 'vest', 'skirt', 'summer dress','romper','shorts','floral dress','polo','summer','crop']\n",
    "winter_wear = ['cardigan', 'jacket', 'coat', 'hoodie', 'sweatshirt','sweater','jumpsuit']\n",
    "monsoon_wear = ['leggings', 'culottes']\n",
    "spring_wear = ['cargo', 'polo']\n",
    "wedding_wear = ['bridal dress', 'saree','evening dress','long dress','kurta','kurti','sari','blouse']"
   ]
  },
  {
   "cell_type": "code",
   "execution_count": 12,
   "metadata": {},
   "outputs": [],
   "source": [
    "trendy_2024 = ['corset', 'tank top', 'polo', 'cargo','vest','romper','crop']"
   ]
  },
  {
   "cell_type": "code",
   "execution_count": 39,
   "metadata": {},
   "outputs": [],
   "source": [
    "def assign_quantity(name, month, year):\n",
    "    lower_name = name.lower()\n",
    "    if any(item in lower_name for item in trendy_2024) and year == 2024:\n",
    "        base_quantity = np.random.randint(1000, 1500)\n",
    "        if np.random.rand() > 0.5:\n",
    "            return base_quantity + np.random.randint(500, 1000)\n",
    "        return base_quantity\n",
    "    \n",
    "    if any(item in lower_name for item in summer_wear) and month in seasons['summer']:\n",
    "        return np.random.randint(500, 1000)\n",
    "    elif any(item in lower_name for item in winter_wear) and month in seasons['winter']:\n",
    "        return np.random.randint(500, 1000)\n",
    "    elif any(item in lower_name for item in monsoon_wear) and month in seasons['monsoon']:\n",
    "        return np.random.randint(300, 700)\n",
    "    elif any(item in lower_name for item in spring_wear) and month in seasons['spring']:\n",
    "        return np.random.randint(300, 700)\n",
    "    elif any(item in lower_name for item in wedding_wear) and month in seasons['winter'] + seasons['spring']:\n",
    "        return np.random.randint(800, 1500)\n",
    "    \n",
    "    return np.random.randint(100, 400)"
   ]
  },
  {
   "cell_type": "code",
   "execution_count": 40,
   "metadata": {},
   "outputs": [],
   "source": [
    "df1['quantity'] = 0\n",
    "df1['date'] = None\n",
    "\n",
    "for i, row in df1.iterrows():\n",
    "    name = row['name']\n",
    "    quantities = []\n",
    "    dates = []\n",
    "    for date in date_range:\n",
    "        quantity = assign_quantity(name, date.month, date.year)\n",
    "        quantities.append(quantity)\n",
    "        dates.append(date)\n",
    "    df1.loc[i, 'quantity'] = quantities[np.argmax(quantities)]  \n",
    "    df1.loc[i, 'date'] = dates[np.argmax(quantities)]"
   ]
  },
  {
   "cell_type": "markdown",
   "metadata": {},
   "source": [
    "Cleaning Image links"
   ]
  },
  {
   "cell_type": "code",
   "execution_count": 10,
   "metadata": {},
   "outputs": [],
   "source": [
    "def keep_last_link(link):\n",
    "    parts = link.split(';')\n",
    "    return parts[-1].strip()"
   ]
  },
  {
   "cell_type": "code",
   "execution_count": 11,
   "metadata": {},
   "outputs": [],
   "source": [
    "df1['img'] = df1['img'].apply(keep_last_link)"
   ]
  },
  {
   "cell_type": "code",
   "execution_count": 13,
   "metadata": {},
   "outputs": [
    {
     "data": {
      "text/plain": [
       "'https://assets.myntassets.com/f_webp,dpr_2.8,q_60,w_210,c_limit,fl_progressive/assets/images/1996777/2022/11/22/336445a8-fa32-4396-914a-2629b49465d31669112704759RoadsterMenBlackCottonPureCottonT-shirt1.jpg'"
      ]
     },
     "execution_count": 13,
     "metadata": {},
     "output_type": "execute_result"
    }
   ],
   "source": [
    "df1['img'][0]"
   ]
  },
  {
   "cell_type": "code",
   "execution_count": null,
   "metadata": {},
   "outputs": [],
   "source": [
    "df1.to_csv('products_final_data.csv')"
   ]
  },
  {
   "cell_type": "markdown",
   "metadata": {},
   "source": [
    "Creating customer data"
   ]
  },
  {
   "cell_type": "code",
   "execution_count": 98,
   "metadata": {},
   "outputs": [],
   "source": [
    "import numpy as np\n",
    "customer_data = {\n",
    "    'customer_id': [],\n",
    "    'product_id': [],\n",
    "    'quantity': [],\n",
    "    'total_price': []\n",
    "}\n",
    "\n",
    "num_customers = 1000\n",
    "all_customer_ids = [f\"{i+1:05}\" for i in range(num_customers)]\n",
    "\n",
    "for _, row in df1.iterrows():\n",
    "    product_id = row['product_id']\n",
    "    available_quantity = row['quantity']\n",
    "    price = row['price']\n",
    "    \n",
    "    while available_quantity > 0:\n",
    "        customer_id = np.random.choice(all_customer_ids)\n",
    "        customer_quantity = np.random.randint(1, min(available_quantity, 5) + 1) \n",
    "        customer_data['customer_id'].append(customer_id)\n",
    "        customer_data['product_id'].append(product_id)\n",
    "        customer_data['quantity'].append(customer_quantity)\n",
    "        customer_data['total_price'].append(customer_quantity * price)\n",
    "        available_quantity -= customer_quantity\n",
    "\n",
    "customer_data = pd.DataFrame(customer_data)"
   ]
  },
  {
   "cell_type": "code",
   "execution_count": 99,
   "metadata": {},
   "outputs": [
    {
     "data": {
      "text/html": [
       "<div>\n",
       "<style scoped>\n",
       "    .dataframe tbody tr th:only-of-type {\n",
       "        vertical-align: middle;\n",
       "    }\n",
       "\n",
       "    .dataframe tbody tr th {\n",
       "        vertical-align: top;\n",
       "    }\n",
       "\n",
       "    .dataframe thead th {\n",
       "        text-align: right;\n",
       "    }\n",
       "</style>\n",
       "<table border=\"1\" class=\"dataframe\">\n",
       "  <thead>\n",
       "    <tr style=\"text-align: right;\">\n",
       "      <th></th>\n",
       "      <th>customer_id</th>\n",
       "      <th>product_id</th>\n",
       "      <th>quantity</th>\n",
       "      <th>total_price</th>\n",
       "    </tr>\n",
       "  </thead>\n",
       "  <tbody>\n",
       "    <tr>\n",
       "      <th>0</th>\n",
       "      <td>00679</td>\n",
       "      <td>1000</td>\n",
       "      <td>1</td>\n",
       "      <td>274</td>\n",
       "    </tr>\n",
       "    <tr>\n",
       "      <th>1</th>\n",
       "      <td>00676</td>\n",
       "      <td>1000</td>\n",
       "      <td>4</td>\n",
       "      <td>1096</td>\n",
       "    </tr>\n",
       "    <tr>\n",
       "      <th>2</th>\n",
       "      <td>00305</td>\n",
       "      <td>1000</td>\n",
       "      <td>1</td>\n",
       "      <td>274</td>\n",
       "    </tr>\n",
       "    <tr>\n",
       "      <th>3</th>\n",
       "      <td>00548</td>\n",
       "      <td>1000</td>\n",
       "      <td>3</td>\n",
       "      <td>822</td>\n",
       "    </tr>\n",
       "    <tr>\n",
       "      <th>4</th>\n",
       "      <td>00561</td>\n",
       "      <td>1000</td>\n",
       "      <td>3</td>\n",
       "      <td>822</td>\n",
       "    </tr>\n",
       "    <tr>\n",
       "      <th>...</th>\n",
       "      <td>...</td>\n",
       "      <td>...</td>\n",
       "      <td>...</td>\n",
       "      <td>...</td>\n",
       "    </tr>\n",
       "    <tr>\n",
       "      <th>1746911</th>\n",
       "      <td>00501</td>\n",
       "      <td>10240</td>\n",
       "      <td>1</td>\n",
       "      <td>1299</td>\n",
       "    </tr>\n",
       "    <tr>\n",
       "      <th>1746912</th>\n",
       "      <td>00602</td>\n",
       "      <td>10240</td>\n",
       "      <td>2</td>\n",
       "      <td>2598</td>\n",
       "    </tr>\n",
       "    <tr>\n",
       "      <th>1746913</th>\n",
       "      <td>00237</td>\n",
       "      <td>10240</td>\n",
       "      <td>2</td>\n",
       "      <td>2598</td>\n",
       "    </tr>\n",
       "    <tr>\n",
       "      <th>1746914</th>\n",
       "      <td>00762</td>\n",
       "      <td>10240</td>\n",
       "      <td>1</td>\n",
       "      <td>1299</td>\n",
       "    </tr>\n",
       "    <tr>\n",
       "      <th>1746915</th>\n",
       "      <td>00302</td>\n",
       "      <td>10240</td>\n",
       "      <td>2</td>\n",
       "      <td>2598</td>\n",
       "    </tr>\n",
       "  </tbody>\n",
       "</table>\n",
       "<p>1746916 rows × 4 columns</p>\n",
       "</div>"
      ],
      "text/plain": [
       "        customer_id product_id  quantity  total_price\n",
       "0             00679       1000         1          274\n",
       "1             00676       1000         4         1096\n",
       "2             00305       1000         1          274\n",
       "3             00548       1000         3          822\n",
       "4             00561       1000         3          822\n",
       "...             ...        ...       ...          ...\n",
       "1746911       00501      10240         1         1299\n",
       "1746912       00602      10240         2         2598\n",
       "1746913       00237      10240         2         2598\n",
       "1746914       00762      10240         1         1299\n",
       "1746915       00302      10240         2         2598\n",
       "\n",
       "[1746916 rows x 4 columns]"
      ]
     },
     "execution_count": 99,
     "metadata": {},
     "output_type": "execute_result"
    }
   ],
   "source": [
    "customer_data"
   ]
  },
  {
   "cell_type": "code",
   "execution_count": 108,
   "metadata": {},
   "outputs": [],
   "source": [
    "customer_data.to_csv('customer_final_data.csv')"
   ]
  }
 ],
 "metadata": {
  "kernelspec": {
   "display_name": "Python 3",
   "language": "python",
   "name": "python3"
  },
  "language_info": {
   "codemirror_mode": {
    "name": "ipython",
    "version": 3
   },
   "file_extension": ".py",
   "mimetype": "text/x-python",
   "name": "python",
   "nbconvert_exporter": "python",
   "pygments_lexer": "ipython3",
   "version": "3.10.4"
  }
 },
 "nbformat": 4,
 "nbformat_minor": 2
}
